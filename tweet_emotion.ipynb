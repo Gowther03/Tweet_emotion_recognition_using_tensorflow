{
 "cells": [
  {
   "cell_type": "code",
   "execution_count": 65,
   "id": "8b3ee656-d242-4d12-a10d-a2df22f3fa35",
   "metadata": {},
   "outputs": [
    {
     "name": "stdout",
     "output_type": "stream",
     "text": [
      "Requirement already satisfied: nlp in c:\\users\\aashish mishra\\appdata\\local\\programs\\python\\python311\\lib\\site-packages (0.4.0)\n",
      "Requirement already satisfied: numpy in c:\\users\\aashish mishra\\appdata\\local\\programs\\python\\python311\\lib\\site-packages (from nlp) (1.24.3)\n",
      "Requirement already satisfied: pyarrow>=0.16.0 in c:\\users\\aashish mishra\\appdata\\local\\programs\\python\\python311\\lib\\site-packages (from nlp) (12.0.1)\n",
      "Requirement already satisfied: dill in c:\\users\\aashish mishra\\appdata\\local\\programs\\python\\python311\\lib\\site-packages (from nlp) (0.3.7)\n",
      "Requirement already satisfied: pandas in c:\\users\\aashish mishra\\appdata\\local\\programs\\python\\python311\\lib\\site-packages (from nlp) (2.0.3)\n",
      "Requirement already satisfied: requests>=2.19.0 in c:\\users\\aashish mishra\\appdata\\local\\programs\\python\\python311\\lib\\site-packages (from nlp) (2.31.0)\n",
      "Requirement already satisfied: tqdm>=4.27 in c:\\users\\aashish mishra\\appdata\\local\\programs\\python\\python311\\lib\\site-packages (from nlp) (4.66.0)\n",
      "Requirement already satisfied: filelock in c:\\users\\aashish mishra\\appdata\\local\\programs\\python\\python311\\lib\\site-packages (from nlp) (3.12.2)\n",
      "Requirement already satisfied: xxhash in c:\\users\\aashish mishra\\appdata\\local\\programs\\python\\python311\\lib\\site-packages (from nlp) (3.3.0)\n",
      "Requirement already satisfied: charset-normalizer<4,>=2 in c:\\users\\aashish mishra\\appdata\\local\\programs\\python\\python311\\lib\\site-packages (from requests>=2.19.0->nlp) (3.2.0)\n",
      "Requirement already satisfied: idna<4,>=2.5 in c:\\users\\aashish mishra\\appdata\\local\\programs\\python\\python311\\lib\\site-packages (from requests>=2.19.0->nlp) (3.4)\n",
      "Requirement already satisfied: urllib3<3,>=1.21.1 in c:\\users\\aashish mishra\\appdata\\local\\programs\\python\\python311\\lib\\site-packages (from requests>=2.19.0->nlp) (1.26.16)\n",
      "Requirement already satisfied: certifi>=2017.4.17 in c:\\users\\aashish mishra\\appdata\\local\\programs\\python\\python311\\lib\\site-packages (from requests>=2.19.0->nlp) (2023.5.7)\n",
      "Requirement already satisfied: colorama in c:\\users\\aashish mishra\\appdata\\local\\programs\\python\\python311\\lib\\site-packages (from tqdm>=4.27->nlp) (0.4.6)\n",
      "Requirement already satisfied: python-dateutil>=2.8.2 in c:\\users\\aashish mishra\\appdata\\local\\programs\\python\\python311\\lib\\site-packages (from pandas->nlp) (2.8.2)\n",
      "Requirement already satisfied: pytz>=2020.1 in c:\\users\\aashish mishra\\appdata\\local\\programs\\python\\python311\\lib\\site-packages (from pandas->nlp) (2023.3)\n",
      "Requirement already satisfied: tzdata>=2022.1 in c:\\users\\aashish mishra\\appdata\\local\\programs\\python\\python311\\lib\\site-packages (from pandas->nlp) (2023.3)\n",
      "Requirement already satisfied: six>=1.5 in c:\\users\\aashish mishra\\appdata\\local\\programs\\python\\python311\\lib\\site-packages (from python-dateutil>=2.8.2->pandas->nlp) (1.16.0)\n"
     ]
    },
    {
     "name": "stderr",
     "output_type": "stream",
     "text": [
      "\n",
      "[notice] A new release of pip is available: 23.2 -> 23.2.1\n",
      "[notice] To update, run: python.exe -m pip install --upgrade pip\n"
     ]
    }
   ],
   "source": [
    "!pip install nlp"
   ]
  },
  {
   "cell_type": "code",
   "execution_count": 71,
   "id": "6450a6b5-b376-4ff6-bcfe-aa871e60811b",
   "metadata": {},
   "outputs": [
    {
     "name": "stdout",
     "output_type": "stream",
     "text": [
      "Using TensorFlow version 2.13.0\n"
     ]
    }
   ],
   "source": [
    "%matplotlib inline\n",
    "\n",
    "import tensorflow as tf\n",
    "import numpy as np\n",
    "import matplotlib.pyplot as plt\n",
    "import nlp\n",
    "import random\n",
    "\n",
    "\n",
    "def show_history(h):\n",
    "    epochs_trained = len(h.history['loss'])\n",
    "    plt.figure(figsize=(16, 6))\n",
    "\n",
    "    plt.subplot(1, 2, 1)\n",
    "    plt.plot(range(0, epochs_trained), h.history.get('accuracy'), label='Training')\n",
    "    plt.plot(range(0, epochs_trained), h.history.get('val_accuracy'), label='Validation')\n",
    "    plt.ylim([0., 1.])\n",
    "    plt.xlabel('Epochs')\n",
    "    plt.ylabel('Accuracy')\n",
    "    plt.legend()\n",
    "\n",
    "    plt.subplot(1, 2, 2)\n",
    "    plt.plot(range(0, epochs_trained), h.history.get('loss'), label='Training')\n",
    "    plt.plot(range(0, epochs_trained), h.history.get('val_loss'), label='Validation')\n",
    "    plt.xlabel('Epochs')\n",
    "    plt.ylabel('Loss')\n",
    "    plt.legend()\n",
    "    plt.show()\n",
    "\n",
    "\n",
    "def show_confusion_matrix(y_true, y_pred, classes):\n",
    "    from sklearn.metrics import confusion_matrix\n",
    "\n",
    "    cm = confusion_matrix(y_true, y_pred, normalize='true')\n",
    "\n",
    "    plt.figure(figsize=(8, 8))\n",
    "    sp = plt.subplot(1, 1, 1)\n",
    "    ctx = sp.matshow(cm)\n",
    "    plt.xticks(list(range(0, 6)), labels=classes)\n",
    "    plt.yticks(list(range(0, 6)), labels=classes)\n",
    "    plt.colorbar(ctx)\n",
    "    plt.show()\n",
    "\n",
    "\n",
    "print('Using TensorFlow version', tf.__version__)"
   ]
  },
  {
   "cell_type": "code",
   "execution_count": 110,
   "id": "a9b93fea-30d8-4016-b77d-006301cd6719",
   "metadata": {},
   "outputs": [],
   "source": [
    "import pandas as pd\n"
   ]
  },
  {
   "cell_type": "code",
   "execution_count": 111,
   "id": "e85f5a64-f58f-4da0-a579-0a2ee3caf3af",
   "metadata": {},
   "outputs": [
    {
     "name": "stdout",
     "output_type": "stream",
     "text": [
      "Requirement already satisfied: datasets in c:\\users\\aashish mishra\\appdata\\local\\programs\\python\\python311\\lib\\site-packages (2.14.4)\n",
      "Requirement already satisfied: numpy>=1.17 in c:\\users\\aashish mishra\\appdata\\local\\programs\\python\\python311\\lib\\site-packages (from datasets) (1.24.3)\n",
      "Requirement already satisfied: pyarrow>=8.0.0 in c:\\users\\aashish mishra\\appdata\\local\\programs\\python\\python311\\lib\\site-packages (from datasets) (12.0.1)\n",
      "Requirement already satisfied: dill<0.3.8,>=0.3.0 in c:\\users\\aashish mishra\\appdata\\local\\programs\\python\\python311\\lib\\site-packages (from datasets) (0.3.7)\n",
      "Requirement already satisfied: pandas in c:\\users\\aashish mishra\\appdata\\local\\programs\\python\\python311\\lib\\site-packages (from datasets) (2.0.3)\n",
      "Requirement already satisfied: requests>=2.19.0 in c:\\users\\aashish mishra\\appdata\\local\\programs\\python\\python311\\lib\\site-packages (from datasets) (2.31.0)\n",
      "Requirement already satisfied: tqdm>=4.62.1 in c:\\users\\aashish mishra\\appdata\\local\\programs\\python\\python311\\lib\\site-packages (from datasets) (4.66.0)\n",
      "Requirement already satisfied: xxhash in c:\\users\\aashish mishra\\appdata\\local\\programs\\python\\python311\\lib\\site-packages (from datasets) (3.3.0)\n",
      "Requirement already satisfied: multiprocess in c:\\users\\aashish mishra\\appdata\\local\\programs\\python\\python311\\lib\\site-packages (from datasets) (0.70.15)\n",
      "Requirement already satisfied: fsspec[http]>=2021.11.1 in c:\\users\\aashish mishra\\appdata\\local\\programs\\python\\python311\\lib\\site-packages (from datasets) (2023.6.0)\n",
      "Requirement already satisfied: aiohttp in c:\\users\\aashish mishra\\appdata\\local\\programs\\python\\python311\\lib\\site-packages (from datasets) (3.8.5)\n",
      "Requirement already satisfied: huggingface-hub<1.0.0,>=0.14.0 in c:\\users\\aashish mishra\\appdata\\local\\programs\\python\\python311\\lib\\site-packages (from datasets) (0.16.4)\n",
      "Requirement already satisfied: packaging in c:\\users\\aashish mishra\\appdata\\local\\programs\\python\\python311\\lib\\site-packages (from datasets) (23.1)\n",
      "Requirement already satisfied: pyyaml>=5.1 in c:\\users\\aashish mishra\\appdata\\local\\programs\\python\\python311\\lib\\site-packages (from datasets) (6.0.1)\n",
      "Requirement already satisfied: attrs>=17.3.0 in c:\\users\\aashish mishra\\appdata\\local\\programs\\python\\python311\\lib\\site-packages (from aiohttp->datasets) (23.1.0)\n",
      "Requirement already satisfied: charset-normalizer<4.0,>=2.0 in c:\\users\\aashish mishra\\appdata\\local\\programs\\python\\python311\\lib\\site-packages (from aiohttp->datasets) (3.2.0)\n",
      "Requirement already satisfied: multidict<7.0,>=4.5 in c:\\users\\aashish mishra\\appdata\\local\\programs\\python\\python311\\lib\\site-packages (from aiohttp->datasets) (6.0.4)\n",
      "Requirement already satisfied: async-timeout<5.0,>=4.0.0a3 in c:\\users\\aashish mishra\\appdata\\local\\programs\\python\\python311\\lib\\site-packages (from aiohttp->datasets) (4.0.2)\n",
      "Requirement already satisfied: yarl<2.0,>=1.0 in c:\\users\\aashish mishra\\appdata\\local\\programs\\python\\python311\\lib\\site-packages (from aiohttp->datasets) (1.9.2)\n",
      "Requirement already satisfied: frozenlist>=1.1.1 in c:\\users\\aashish mishra\\appdata\\local\\programs\\python\\python311\\lib\\site-packages (from aiohttp->datasets) (1.4.0)\n",
      "Requirement already satisfied: aiosignal>=1.1.2 in c:\\users\\aashish mishra\\appdata\\local\\programs\\python\\python311\\lib\\site-packages (from aiohttp->datasets) (1.3.1)\n",
      "Requirement already satisfied: filelock in c:\\users\\aashish mishra\\appdata\\local\\programs\\python\\python311\\lib\\site-packages (from huggingface-hub<1.0.0,>=0.14.0->datasets) (3.12.2)\n",
      "Requirement already satisfied: typing-extensions>=3.7.4.3 in c:\\users\\aashish mishra\\appdata\\local\\programs\\python\\python311\\lib\\site-packages (from huggingface-hub<1.0.0,>=0.14.0->datasets) (4.5.0)\n",
      "Requirement already satisfied: idna<4,>=2.5 in c:\\users\\aashish mishra\\appdata\\local\\programs\\python\\python311\\lib\\site-packages (from requests>=2.19.0->datasets) (3.4)\n",
      "Requirement already satisfied: urllib3<3,>=1.21.1 in c:\\users\\aashish mishra\\appdata\\local\\programs\\python\\python311\\lib\\site-packages (from requests>=2.19.0->datasets) (1.26.16)\n",
      "Requirement already satisfied: certifi>=2017.4.17 in c:\\users\\aashish mishra\\appdata\\local\\programs\\python\\python311\\lib\\site-packages (from requests>=2.19.0->datasets) (2023.5.7)\n",
      "Requirement already satisfied: colorama in c:\\users\\aashish mishra\\appdata\\local\\programs\\python\\python311\\lib\\site-packages (from tqdm>=4.62.1->datasets) (0.4.6)\n",
      "Requirement already satisfied: python-dateutil>=2.8.2 in c:\\users\\aashish mishra\\appdata\\local\\programs\\python\\python311\\lib\\site-packages (from pandas->datasets) (2.8.2)\n",
      "Requirement already satisfied: pytz>=2020.1 in c:\\users\\aashish mishra\\appdata\\local\\programs\\python\\python311\\lib\\site-packages (from pandas->datasets) (2023.3)\n",
      "Requirement already satisfied: tzdata>=2022.1 in c:\\users\\aashish mishra\\appdata\\local\\programs\\python\\python311\\lib\\site-packages (from pandas->datasets) (2023.3)\n",
      "Requirement already satisfied: six>=1.5 in c:\\users\\aashish mishra\\appdata\\local\\programs\\python\\python311\\lib\\site-packages (from python-dateutil>=2.8.2->pandas->datasets) (1.16.0)\n"
     ]
    },
    {
     "name": "stderr",
     "output_type": "stream",
     "text": [
      "\n",
      "[notice] A new release of pip is available: 23.2 -> 23.2.1\n",
      "[notice] To update, run: python.exe -m pip install --upgrade pip\n"
     ]
    }
   ],
   "source": [
    "!pip install datasets"
   ]
  },
  {
   "cell_type": "code",
   "execution_count": 112,
   "id": "be48dcf4-6880-4209-8807-e3ed3456459b",
   "metadata": {},
   "outputs": [],
   "source": [
    "from datasets import load_dataset\n",
    "from datasets import list_datasets\n",
    "all_datasets = list_datasets()"
   ]
  },
  {
   "cell_type": "code",
   "execution_count": 113,
   "id": "f249811d-20f9-456a-be69-be65324307b0",
   "metadata": {},
   "outputs": [],
   "source": [
    "emotions = load_dataset('emotion')"
   ]
  },
  {
   "cell_type": "code",
   "execution_count": 114,
   "id": "050de49b-c93f-4af0-a675-542c662e9e48",
   "metadata": {},
   "outputs": [],
   "source": [
    "train = emotions['train']\n",
    "test = emotions['test']\n",
    "val =emotions['validation']"
   ]
  },
  {
   "cell_type": "code",
   "execution_count": 115,
   "id": "85f58553-b6d8-4569-9f4d-f34d5747648f",
   "metadata": {},
   "outputs": [],
   "source": [
    "def get_tweet(data):\n",
    "    tweets = [x['text'] for x in data]\n",
    "    labels = [x['label'] for x in data]\n",
    "    return tweets, labels"
   ]
  },
  {
   "cell_type": "code",
   "execution_count": 117,
   "id": "5b98e0e1-fd6c-4088-b684-b2eddd9b3a2c",
   "metadata": {},
   "outputs": [],
   "source": [
    "tweet, label = get_tweet(train)\n",
    "val_tweet, val_label = get_tweet(val)"
   ]
  },
  {
   "cell_type": "code",
   "execution_count": 79,
   "id": "200e0be7-1cb9-43a3-8197-5f8e5fa49dfc",
   "metadata": {},
   "outputs": [],
   "source": [
    "from tensorflow.keras.preprocessing.text import Tokenizer"
   ]
  },
  {
   "cell_type": "code",
   "execution_count": 119,
   "id": "889b5ae9",
   "metadata": {},
   "outputs": [],
   "source": [
    "tokenizer = Tokenizer(num_words=10000, oov_token='<UNK>')\n",
    "tokenizer.fit_on_texts(tweet)\n",
    "tokenizer.fit_on_texts(val_tweet)"
   ]
  },
  {
   "cell_type": "code",
   "execution_count": 120,
   "id": "1c7faf76",
   "metadata": {},
   "outputs": [
    {
     "data": {
      "image/png": "[encoded data removed]",
      "text/plain": [
       "<Figure size 640x480 with 1 Axes>"
      ]
     },
     "metadata": {},
     "output_type": "display_data"
    }
   ],
   "source": [
    "lengths = [len(t.split(' ')) for t in tweet]\n",
    "plt.hist(lengths, bins=len(set(lengths)))\n",
    "plt.show()"
   ]
  },
  {
   "cell_type": "code",
   "execution_count": 121,
   "id": "8e0d7dda",
   "metadata": {},
   "outputs": [],
   "source": [
    "maxlen = 50\n",
    "from tensorflow.keras.preprocessing.sequence import pad_sequences"
   ]
  },
  {
   "cell_type": "code",
   "execution_count": 122,
   "id": "4fb87641",
   "metadata": {},
   "outputs": [],
   "source": [
    "def get_sequences(tokenizer, tweet):\n",
    "    sequences = tokenizer.texts_to_sequences(tweet)\n",
    "    padded = pad_sequences(sequences, truncating='post', padding='post', maxlen=maxlen)\n",
    "    return padded"
   ]
  },
  {
   "cell_type": "code",
   "execution_count": 124,
   "id": "242db22f",
   "metadata": {},
   "outputs": [],
   "source": [
    "padded_train_seq = get_sequences(tokenizer, tweet)\n",
    "val_seq = get_sequences(tokenizer, val_tweet)"
   ]
  },
  {
   "cell_type": "code",
   "execution_count": 125,
   "id": "2dd6b65c",
   "metadata": {},
   "outputs": [
    {
     "name": "stdout",
     "output_type": "stream",
     "text": [
      "{0, 1, 2, 3, 4, 5}\n"
     ]
    }
   ],
   "source": [
    "classes = set(label)\n",
    "print(classes)"
   ]
  },
  {
   "cell_type": "code",
   "execution_count": 126,
   "id": "73530066",
   "metadata": {},
   "outputs": [],
   "source": [
    "classes = emotions['train'].features['label'].names"
   ]
  },
  {
   "cell_type": "code",
   "execution_count": 163,
   "id": "fa6a0f4c",
   "metadata": {},
   "outputs": [],
   "source": [
    "emotions.set_format(type='pandas')\n",
    "df = emotions['train'][:]\n",
    "df_val = emotions['validation'][:]"
   ]
  },
  {
   "cell_type": "code",
   "execution_count": 164,
   "id": "c0e862a0",
   "metadata": {},
   "outputs": [],
   "source": [
    "df['label_name'] = df['label'].apply(lambda x: classes[x])\n",
    "df_val['label_name'] = df_val['label'].apply(lambda x: classes[x])"
   ]
  },
  {
   "cell_type": "code",
   "execution_count": 129,
   "id": "298d2b47",
   "metadata": {},
   "outputs": [
    {
     "data": {
      "text/html": [
       "<div>\n",
       "<style scoped>\n",
       "    .dataframe tbody tr th:only-of-type {\n",
       "        vertical-align: middle;\n",
       "    }\n",
       "\n",
       "    .dataframe tbody tr th {\n",
       "        vertical-align: top;\n",
       "    }\n",
       "\n",
       "    .dataframe thead th {\n",
       "        text-align: right;\n",
       "    }\n",
       "</style>\n",
       "<table border=\"1\" class=\"dataframe\">\n",
       "  <thead>\n",
       "    <tr style=\"text-align: right;\">\n",
       "      <th></th>\n",
       "      <th>text</th>\n",
       "      <th>label</th>\n",
       "      <th>label_name</th>\n",
       "    </tr>\n",
       "  </thead>\n",
       "  <tbody>\n",
       "    <tr>\n",
       "      <th>0</th>\n",
       "      <td>i didnt feel humiliated</td>\n",
       "      <td>0</td>\n",
       "      <td>sadness</td>\n",
       "    </tr>\n",
       "    <tr>\n",
       "      <th>1</th>\n",
       "      <td>i can go from feeling so hopeless to so damned...</td>\n",
       "      <td>0</td>\n",
       "      <td>sadness</td>\n",
       "    </tr>\n",
       "    <tr>\n",
       "      <th>2</th>\n",
       "      <td>im grabbing a minute to post i feel greedy wrong</td>\n",
       "      <td>3</td>\n",
       "      <td>anger</td>\n",
       "    </tr>\n",
       "    <tr>\n",
       "      <th>3</th>\n",
       "      <td>i am ever feeling nostalgic about the fireplac...</td>\n",
       "      <td>2</td>\n",
       "      <td>love</td>\n",
       "    </tr>\n",
       "    <tr>\n",
       "      <th>4</th>\n",
       "      <td>i am feeling grouchy</td>\n",
       "      <td>3</td>\n",
       "      <td>anger</td>\n",
       "    </tr>\n",
       "  </tbody>\n",
       "</table>\n",
       "</div>"
      ],
      "text/plain": [
       "                                                text  label label_name\n",
       "0                            i didnt feel humiliated      0    sadness\n",
       "1  i can go from feeling so hopeless to so damned...      0    sadness\n",
       "2   im grabbing a minute to post i feel greedy wrong      3      anger\n",
       "3  i am ever feeling nostalgic about the fireplac...      2       love\n",
       "4                               i am feeling grouchy      3      anger"
      ]
     },
     "execution_count": 129,
     "metadata": {},
     "output_type": "execute_result"
    }
   ],
   "source": [
    "df.head()"
   ]
  },
  {
   "cell_type": "code",
   "execution_count": 130,
   "id": "79ebc763",
   "metadata": {},
   "outputs": [],
   "source": [
    "model = tf.keras.models.Sequential([\n",
    "    tf.keras.layers.Embedding(10000, 16, input_length=maxlen),\n",
    "    tf.keras.layers.Bidirectional(tf.keras.layers.LSTM(20, return_sequences=True)),\n",
    "    tf.keras.layers.Bidirectional(tf.keras.layers.LSTM(20)),\n",
    "    tf.keras.layers.Dense(6, activation='softmax')    \n",
    "])\n",
    "\n",
    "model.compile(\n",
    "    \n",
    "    loss='sparse_categorical_crossentropy',\n",
    "    optimizer='adam',\n",
    "    metrics=['accuracy']\n",
    ")"
   ]
  },
  {
   "cell_type": "code",
   "execution_count": 136,
   "id": "9dc6568b",
   "metadata": {},
   "outputs": [
    {
     "name": "stdout",
     "output_type": "stream",
     "text": [
      "Model: \"sequential_3\"\n",
      "_________________________________________________________________\n",
      " Layer (type)                Output Shape              Param #   \n",
      "=================================================================\n",
      " embedding_3 (Embedding)     (None, 50, 16)            160000    \n",
      "                                                                 \n",
      " bidirectional_6 (Bidirecti  (None, 50, 40)            5920      \n",
      " onal)                                                           \n",
      "                                                                 \n",
      " bidirectional_7 (Bidirecti  (None, 40)                9760      \n",
      " onal)                                                           \n",
      "                                                                 \n",
      " dense_3 (Dense)             (None, 6)                 246       \n",
      "                                                                 \n",
      "=================================================================\n",
      "Total params: 175926 (687.21 KB)\n",
      "Trainable params: 175926 (687.21 KB)\n",
      "Non-trainable params: 0 (0.00 Byte)\n",
      "_________________________________________________________________\n"
     ]
    },
    {
     "data": {
      "text/plain": [
       "('i didnt feel humiliated', 0)"
      ]
     },
     "execution_count": 136,
     "metadata": {},
     "output_type": "execute_result"
    }
   ],
   "source": [
    "model.summary()"
   ]
  },
  {
   "cell_type": "code",
   "execution_count": 137,
   "id": "6f907594",
   "metadata": {},
   "outputs": [],
   "source": [
    "padded_train_seq = np.asarray(padded_train_seq)\n",
    "label = np.asarray(label)\n",
    "val_seq = np.asarray(val_seq)\n",
    "val_label = np.asarray(val_label)"
   ]
  },
  {
   "cell_type": "code",
   "execution_count": 138,
   "id": "f9e2b404",
   "metadata": {},
   "outputs": [
    {
     "name": "stdout",
     "output_type": "stream",
     "text": [
      "Epoch 1/20\n",
      "500/500 [==============================] - 18s 21ms/step - loss: 1.3535 - accuracy: 0.4694 - val_loss: 0.9387 - val_accuracy: 0.6715\n",
      "Epoch 2/20\n",
      "500/500 [==============================] - 8s 16ms/step - loss: 0.6051 - accuracy: 0.7989 - val_loss: 0.4935 - val_accuracy: 0.8425\n",
      "Epoch 3/20\n",
      "500/500 [==============================] - 8s 17ms/step - loss: 0.2953 - accuracy: 0.9061 - val_loss: 0.4443 - val_accuracy: 0.8660\n",
      "Epoch 4/20\n",
      "500/500 [==============================] - 8s 16ms/step - loss: 0.1825 - accuracy: 0.9437 - val_loss: 0.3656 - val_accuracy: 0.8915\n",
      "Epoch 5/20\n",
      "500/500 [==============================] - 8s 17ms/step - loss: 0.1422 - accuracy: 0.9542 - val_loss: 0.3650 - val_accuracy: 0.8865\n",
      "Epoch 6/20\n",
      "500/500 [==============================] - 8s 17ms/step - loss: 0.1100 - accuracy: 0.9648 - val_loss: 0.3812 - val_accuracy: 0.8915\n"
     ]
    }
   ],
   "source": [
    "h = model.fit(\n",
    "    padded_train_seq, label,\n",
    "    validation_data=(val_seq, val_label),\n",
    "    epochs=20,\n",
    "    callbacks=[\n",
    "        tf.keras.callbacks.EarlyStopping(monitor='val_accuracy', patience=2)\n",
    "    ]\n",
    ")"
   ]
  },
  {
   "cell_type": "code",
   "execution_count": 190,
   "id": "df2030a6",
   "metadata": {},
   "outputs": [
    {
     "name": "stdout",
     "output_type": "stream",
     "text": [
      "Sentence:  i have a feeling this will be a lovely little thing of a perfume\n",
      "Emotion:  love\n",
      "1/1 [==============================] - 0s 32ms/step\n",
      "Predicted Emotion:  love\n"
     ]
    }
   ],
   "source": [
    "i = random.randint(0, len(val_label) - 1)\n",
    "\n",
    "print('Sentence: ', val_tweet[i])\n",
    "print('Emotion: ', df_val['label_name'][i])\n",
    "\n",
    "p = model.predict(np.expand_dims(val_seq[i], axis=0))[0]\n",
    "pred_class = np.argmax(p)\n",
    "\n",
    "print('Predicted Emotion: ', classes[pred_class])"
   ]
  },
  {
   "cell_type": "code",
   "execution_count": 192,
   "id": "d4256026",
   "metadata": {},
   "outputs": [
    {
     "name": "stdout",
     "output_type": "stream",
     "text": [
      "63/63 [==============================] - 1s 10ms/step\n"
     ]
    }
   ],
   "source": [
    "predictions = np.argmax(model.predict(val_seq),axis=1)"
   ]
  },
  {
   "cell_type": "code",
   "execution_count": 194,
   "id": "e1fd33f0",
   "metadata": {},
   "outputs": [
    {
     "data": {
      "image/png": "[encoded data removed]",
      "text/plain": [
       "<Figure size 1600x600 with 2 Axes>"
      ]
     },
     "metadata": {},
     "output_type": "display_data"
    }
   ],
   "source": [
    "show_history(h)"
   ]
  },
  {
   "cell_type": "code",
   "execution_count": 193,
   "id": "2d862d27",
   "metadata": {},
   "outputs": [
    {
     "data": {
      "image/png": "[encoded data removed]",
      "text/plain": [
       "<Figure size 800x800 with 2 Axes>"
      ]
     },
     "metadata": {},
     "output_type": "display_data"
    }
   ],
   "source": [
    "show_confusion_matrix(val_label, predictions, list(classes))"
   ]
  }
 ],
 "metadata": {
  "kernelspec": {
   "display_name": "Python 3 (ipykernel)",
   "language": "python",
   "name": "python3"
  },
  "language_info": {
   "codemirror_mode": {
    "name": "ipython",
    "version": 3
   },
   "file_extension": ".py",
   "mimetype": "text/x-python",
   "name": "python",
   "nbconvert_exporter": "python",
   "pygments_lexer": "ipython3",
   "version": "3.11.4"
  }
 },
 "nbformat": 4,
 "nbformat_minor": 5
}
